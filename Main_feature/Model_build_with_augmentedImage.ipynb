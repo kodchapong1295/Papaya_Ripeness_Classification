{
 "cells": [
  {
   "cell_type": "markdown",
   "metadata": {
    "id": "FE7KNzPPVrVV"
   },
   "source": [
    "# Image classification"
   ]
  },
  {
   "cell_type": "markdown",
   "metadata": {
    "id": "zF9uvbXNVrVY"
   },
   "source": [
    "## Import libraries"
   ]
  },
  {
   "cell_type": "code",
   "execution_count": 56,
   "metadata": {
    "execution": {
     "iopub.execute_input": "2021-06-16T19:32:02.065911Z",
     "iopub.status.busy": "2021-06-16T19:32:02.065333Z",
     "iopub.status.idle": "2021-06-16T19:32:03.668090Z",
     "shell.execute_reply": "2021-06-16T19:32:03.667451Z"
    },
    "id": "L1WtoaOHVrVh"
   },
   "outputs": [],
   "source": [
    "import matplotlib.pyplot as plt\n",
    "import numpy as np\n",
    "import os\n",
    "import PIL\n",
    "import tensorflow as tf\n",
    "\n",
    "from tensorflow import keras\n",
    "from tensorflow.keras import layers\n",
    "from tensorflow.keras.models import Sequential"
   ]
  },
  {
   "cell_type": "markdown",
   "metadata": {
    "id": "xyDNn9MbIzfT"
   },
   "source": [
    "## Define some parameters for the loader:"
   ]
  },
  {
   "cell_type": "code",
   "execution_count": 57,
   "metadata": {
    "execution": {
     "iopub.execute_input": "2021-06-16T19:32:03.954602Z",
     "iopub.status.busy": "2021-06-16T19:32:03.953970Z",
     "iopub.status.idle": "2021-06-16T19:32:03.956172Z",
     "shell.execute_reply": "2021-06-16T19:32:03.955587Z"
    },
    "id": "H74l2DoDI2XD"
   },
   "outputs": [],
   "source": [
    "batch_size = 32\n",
    "img_height = 64\n",
    "img_width = 64\n",
    "num_classes = 3"
   ]
  },
  {
   "cell_type": "markdown",
   "metadata": {
    "id": "pFBhRrrEI49z"
   },
   "source": [
    "## Split Dataset (80% Training, 20% Validating)"
   ]
  },
  {
   "cell_type": "code",
   "execution_count": 58,
   "metadata": {
    "execution": {
     "iopub.execute_input": "2021-06-16T19:32:03.960239Z",
     "iopub.status.busy": "2021-06-16T19:32:03.959474Z",
     "iopub.status.idle": "2021-06-16T19:32:05.611564Z",
     "shell.execute_reply": "2021-06-16T19:32:05.611950Z"
    },
    "id": "fIR0kRZiI_AT"
   },
   "outputs": [
    {
     "name": "stdout",
     "output_type": "stream",
     "text": [
      "Found 381 files belonging to 3 classes.\n",
      "Using 305 files for training.\n"
     ]
    }
   ],
   "source": [
    "train_ds = tf.keras.preprocessing.image_dataset_from_directory(\n",
    "#   './augmented',\n",
    "  './training',\n",
    "  validation_split=0.2,\n",
    "  subset=\"training\",\n",
    "  seed=123,\n",
    "  image_size=(img_height, img_width),\n",
    "  batch_size=batch_size)"
   ]
  },
  {
   "cell_type": "code",
   "execution_count": 59,
   "metadata": {
    "execution": {
     "iopub.execute_input": "2021-06-16T19:32:05.616033Z",
     "iopub.status.busy": "2021-06-16T19:32:05.615361Z",
     "iopub.status.idle": "2021-06-16T19:32:05.736858Z",
     "shell.execute_reply": "2021-06-16T19:32:05.736400Z"
    },
    "id": "iscU3UoVJBXj"
   },
   "outputs": [
    {
     "name": "stdout",
     "output_type": "stream",
     "text": [
      "Found 381 files belonging to 3 classes.\n",
      "Using 76 files for validation.\n"
     ]
    }
   ],
   "source": [
    "val_ds = tf.keras.preprocessing.image_dataset_from_directory(\n",
    "#   './augmented',\n",
    "    './training',\n",
    "  validation_split=0.2,\n",
    "  subset=\"validation\",\n",
    "  seed=123,\n",
    "  image_size=(img_height, img_width),\n",
    "  batch_size=batch_size)"
   ]
  },
  {
   "cell_type": "markdown",
   "metadata": {
    "id": "WLQULyAvJC3X"
   },
   "source": [
    "## Show class name"
   ]
  },
  {
   "cell_type": "code",
   "execution_count": 60,
   "metadata": {
    "execution": {
     "iopub.execute_input": "2021-06-16T19:32:05.740561Z",
     "iopub.status.busy": "2021-06-16T19:32:05.740000Z",
     "iopub.status.idle": "2021-06-16T19:32:05.742741Z",
     "shell.execute_reply": "2021-06-16T19:32:05.742325Z"
    },
    "id": "ZHAxkHX5JD3k"
   },
   "outputs": [
    {
     "name": "stdout",
     "output_type": "stream",
     "text": [
      "['Medium', 'Not_Ripe', 'Ripe']\n"
     ]
    }
   ],
   "source": [
    "class_names = train_ds.class_names\n",
    "print(class_names)"
   ]
  },
  {
   "cell_type": "markdown",
   "metadata": {
    "id": "4Dr0at41KcAU"
   },
   "source": [
    "## Configure the dataset for performance\n",
    "\n",
    "Let's make sure to use buffered prefetching so you can yield data from disk without having I/O become blocking. These are two important methods you should use when loading data.\n",
    "\n",
    "`Dataset.cache()` keeps the images in memory after they're loaded off disk during the first epoch. This will ensure the dataset does not become a bottleneck while training your model. If your dataset is too large to fit into memory, you can also use this method to create a performant on-disk cache.\n",
    "\n",
    "`Dataset.prefetch()` overlaps data preprocessing and model execution while training. \n",
    "\n",
    "Interested readers can learn more about both methods, as well as how to cache data to disk in the [data performance guide](https://www.tensorflow.org/guide/data_performance#prefetching)."
   ]
  },
  {
   "cell_type": "code",
   "execution_count": 61,
   "metadata": {
    "execution": {
     "iopub.execute_input": "2021-06-16T19:32:06.460973Z",
     "iopub.status.busy": "2021-06-16T19:32:06.460380Z",
     "iopub.status.idle": "2021-06-16T19:32:06.464389Z",
     "shell.execute_reply": "2021-06-16T19:32:06.463959Z"
    },
    "id": "nOjJSm7DKoZA"
   },
   "outputs": [],
   "source": [
    "AUTOTUNE = tf.data.AUTOTUNE\n",
    "\n",
    "train_ds = train_ds.cache().shuffle(1000).prefetch(buffer_size=AUTOTUNE)\n",
    "val_ds = val_ds.cache().prefetch(buffer_size=AUTOTUNE)"
   ]
  },
  {
   "cell_type": "markdown",
   "metadata": {
    "id": "8GUnmPF4JvEf"
   },
   "source": [
    "## Standardize the data"
   ]
  },
  {
   "cell_type": "markdown",
   "metadata": {
    "id": "e56VXHMWJxYT"
   },
   "source": [
    "The RGB channel values are in the `[0, 255]` range. This is not ideal for a neural network; in general you should seek to make your input values small. Here, you will standardize values to be in the `[0, 1]` range by using a Rescaling layer."
   ]
  },
  {
   "cell_type": "code",
   "execution_count": 62,
   "metadata": {
    "execution": {
     "iopub.execute_input": "2021-06-16T19:32:06.468403Z",
     "iopub.status.busy": "2021-06-16T19:32:06.467856Z",
     "iopub.status.idle": "2021-06-16T19:32:06.473470Z",
     "shell.execute_reply": "2021-06-16T19:32:06.473070Z"
    },
    "id": "PEYxo2CTJvY9"
   },
   "outputs": [],
   "source": [
    "normalization_layer = layers.experimental.preprocessing.Rescaling(1./255)"
   ]
  },
  {
   "cell_type": "markdown",
   "metadata": {
    "id": "8aGpkwFaIw4i"
   },
   "source": [
    "Note: The Keras Preprocessing utilities and layers introduced in this section are currently experimental and may change."
   ]
  },
  {
   "cell_type": "markdown",
   "metadata": {
    "id": "Bl4RmanbJ4g0"
   },
   "source": [
    "There are two ways to use this layer. You can apply it to the dataset by calling map:"
   ]
  },
  {
   "cell_type": "code",
   "execution_count": 63,
   "metadata": {
    "execution": {
     "iopub.execute_input": "2021-06-16T19:32:06.478349Z",
     "iopub.status.busy": "2021-06-16T19:32:06.477806Z",
     "iopub.status.idle": "2021-06-16T19:32:08.048993Z",
     "shell.execute_reply": "2021-06-16T19:32:08.049348Z"
    },
    "id": "X9o9ESaJJ502"
   },
   "outputs": [
    {
     "name": "stdout",
     "output_type": "stream",
     "text": [
      "0.026991423 1.0\n"
     ]
    }
   ],
   "source": [
    "normalized_ds = train_ds.map(lambda x, y: (normalization_layer(x), y))\n",
    "image_batch, labels_batch = next(iter(normalized_ds))\n",
    "first_image = image_batch[0]\n",
    "# Notice the pixels values are now in `[0,1]`.\n",
    "print(np.min(first_image), np.max(first_image)) "
   ]
  },
  {
   "cell_type": "markdown",
   "metadata": {
    "id": "XWEOmRSBJ9J8"
   },
   "source": [
    "Or, you can include the layer inside your model definition, which can simplify deployment. Let's use the second approach here."
   ]
  },
  {
   "cell_type": "markdown",
   "metadata": {
    "id": "XsRk1xCwKZR4"
   },
   "source": [
    "Note: you previously resized images using the `image_size` argument of `image_dataset_from_directory`. If you want to include the resizing logic in your model as well, you can use the [Resizing](https://www.tensorflow.org/api_docs/python/tf/keras/layers/experimental/preprocessing/Resizing) layer."
   ]
  },
  {
   "cell_type": "markdown",
   "metadata": {
    "id": "BDMfYqwmM1C-"
   },
   "source": [
    "## Data augmentation"
   ]
  },
  {
   "cell_type": "code",
   "execution_count": 64,
   "metadata": {
    "execution": {
     "iopub.execute_input": "2021-06-16T19:32:19.982221Z",
     "iopub.status.busy": "2021-06-16T19:32:19.981601Z",
     "iopub.status.idle": "2021-06-16T19:32:20.088707Z",
     "shell.execute_reply": "2021-06-16T19:32:20.089063Z"
    },
    "id": "9J80BAbIMs21"
   },
   "outputs": [],
   "source": [
    "data_augmentation = keras.Sequential(\n",
    "  [\n",
    "    layers.experimental.preprocessing.RandomFlip(\"horizontal\", \n",
    "                                                 input_shape=(img_height, \n",
    "                                                              img_width,\n",
    "                                                              3)),\n",
    "    layers.experimental.preprocessing.RandomRotation(0.2),\n",
    "    layers.experimental.preprocessing.RandomZoom(0.2),\n",
    "  ]\n",
    ")"
   ]
  },
  {
   "cell_type": "markdown",
   "metadata": {
    "id": "ZeD3bXepYKXs"
   },
   "source": [
    "## Build model"
   ]
  },
  {
   "cell_type": "code",
   "execution_count": 65,
   "metadata": {
    "execution": {
     "iopub.execute_input": "2021-06-16T19:32:20.661411Z",
     "iopub.status.busy": "2021-06-16T19:32:20.660779Z",
     "iopub.status.idle": "2021-06-16T19:32:20.798914Z",
     "shell.execute_reply": "2021-06-16T19:32:20.798478Z"
    },
    "id": "2Zeg8zsqXCsm"
   },
   "outputs": [],
   "source": [
    "model = Sequential([\n",
    "  data_augmentation,\n",
    "\n",
    "#   layers.experimental.preprocessing.Rescaling(1./255, input_shape=(img_height,img_width,3)),\n",
    "  layers.experimental.preprocessing.Rescaling(1./255),\n",
    "#   layers.Dense(64, activation='relu',),\n",
    "  layers.Conv2D(16, kernel_size=(3,3), padding='same', activation='relu'),\n",
    "  layers.MaxPooling2D(pool_size=(2,2), strides=2, padding='valid'),\n",
    "  layers.Conv2D(32,  kernel_size=(3,3), padding='same', activation='relu'),\n",
    "  layers.MaxPooling2D(pool_size=(2,2), strides=2, padding='valid'),\n",
    "  layers.Conv2D(64,  kernel_size=(3,3), padding='same', activation='relu'),\n",
    "  layers.MaxPooling2D(pool_size=(2,2), strides=2, padding='valid'),\n",
    "#   layers.Conv2D(64, 3, padding='same', activation='relu'),\n",
    "#   layers.MaxPooling2D(),\n",
    "#   layers.Conv2D(128, 3, padding='same', activation='relu'),\n",
    "#   layers.MaxPooling2D(),\n",
    "  layers.Dropout(0.1),\n",
    "  layers.Flatten(),\n",
    "  layers.Dense(128, activation='relu'),\n",
    "  layers.Dense(num_classes)\n",
    "])"
   ]
  },
  {
   "cell_type": "markdown",
   "metadata": {
    "id": "L4nEcuqgZLbi"
   },
   "source": [
    "## Compile and train the model"
   ]
  },
  {
   "cell_type": "code",
   "execution_count": 66,
   "metadata": {
    "execution": {
     "iopub.execute_input": "2021-06-16T19:32:20.804866Z",
     "iopub.status.busy": "2021-06-16T19:32:20.804298Z",
     "iopub.status.idle": "2021-06-16T19:32:20.807628Z",
     "shell.execute_reply": "2021-06-16T19:32:20.807976Z"
    },
    "id": "EvyAINs9ZOmJ"
   },
   "outputs": [],
   "source": [
    "model.compile(optimizer='adam',\n",
    "              loss=tf.keras.losses.SparseCategoricalCrossentropy(from_logits=True),\n",
    "              metrics=['accuracy'])"
   ]
  },
  {
   "cell_type": "code",
   "execution_count": 67,
   "metadata": {
    "execution": {
     "iopub.execute_input": "2021-06-16T19:32:20.812402Z",
     "iopub.status.busy": "2021-06-16T19:32:20.811772Z",
     "iopub.status.idle": "2021-06-16T19:32:20.816634Z",
     "shell.execute_reply": "2021-06-16T19:32:20.816236Z"
    },
    "id": "wWLkKoKjZSoC"
   },
   "outputs": [
    {
     "name": "stdout",
     "output_type": "stream",
     "text": [
      "Model: \"sequential_7\"\n",
      "_________________________________________________________________\n",
      "Layer (type)                 Output Shape              Param #   \n",
      "=================================================================\n",
      "sequential_6 (Sequential)    (None, 64, 64, 3)         0         \n",
      "_________________________________________________________________\n",
      "rescaling_7 (Rescaling)      (None, 64, 64, 3)         0         \n",
      "_________________________________________________________________\n",
      "conv2d_8 (Conv2D)            (None, 64, 64, 16)        448       \n",
      "_________________________________________________________________\n",
      "max_pooling2d_8 (MaxPooling2 (None, 32, 32, 16)        0         \n",
      "_________________________________________________________________\n",
      "conv2d_9 (Conv2D)            (None, 32, 32, 32)        4640      \n",
      "_________________________________________________________________\n",
      "max_pooling2d_9 (MaxPooling2 (None, 16, 16, 32)        0         \n",
      "_________________________________________________________________\n",
      "conv2d_10 (Conv2D)           (None, 16, 16, 64)        18496     \n",
      "_________________________________________________________________\n",
      "max_pooling2d_10 (MaxPooling (None, 8, 8, 64)          0         \n",
      "_________________________________________________________________\n",
      "dropout_3 (Dropout)          (None, 8, 8, 64)          0         \n",
      "_________________________________________________________________\n",
      "flatten_3 (Flatten)          (None, 4096)              0         \n",
      "_________________________________________________________________\n",
      "dense_6 (Dense)              (None, 128)               524416    \n",
      "_________________________________________________________________\n",
      "dense_7 (Dense)              (None, 3)                 387       \n",
      "=================================================================\n",
      "Total params: 548,387\n",
      "Trainable params: 548,387\n",
      "Non-trainable params: 0\n",
      "_________________________________________________________________\n"
     ]
    }
   ],
   "source": [
    "model.summary()"
   ]
  },
  {
   "cell_type": "code",
   "execution_count": 68,
   "metadata": {
    "execution": {
     "iopub.execute_input": "2021-06-16T19:32:20.820691Z",
     "iopub.status.busy": "2021-06-16T19:32:20.820028Z",
     "iopub.status.idle": "2021-06-16T19:32:36.648463Z",
     "shell.execute_reply": "2021-06-16T19:32:36.648034Z"
    },
    "id": "LWS-vvNaZDag"
   },
   "outputs": [
    {
     "name": "stdout",
     "output_type": "stream",
     "text": [
      "Epoch 1/100\n",
      "10/10 [==============================] - 3s 116ms/step - loss: 0.8249 - accuracy: 0.6098 - val_loss: 0.5765 - val_accuracy: 0.6711\n",
      "Epoch 2/100\n",
      "10/10 [==============================] - 1s 76ms/step - loss: 0.5490 - accuracy: 0.7311 - val_loss: 0.6348 - val_accuracy: 0.6974\n",
      "Epoch 3/100\n",
      "10/10 [==============================] - 1s 75ms/step - loss: 0.4458 - accuracy: 0.8098 - val_loss: 0.5152 - val_accuracy: 0.8026\n",
      "Epoch 4/100\n",
      "10/10 [==============================] - 1s 84ms/step - loss: 0.3884 - accuracy: 0.8328 - val_loss: 0.5105 - val_accuracy: 0.7500\n",
      "Epoch 5/100\n",
      "10/10 [==============================] - 1s 77ms/step - loss: 0.3589 - accuracy: 0.8426 - val_loss: 0.2829 - val_accuracy: 0.8947\n",
      "Epoch 6/100\n",
      "10/10 [==============================] - 1s 91ms/step - loss: 0.3741 - accuracy: 0.8262 - val_loss: 0.3121 - val_accuracy: 0.8816\n",
      "Epoch 7/100\n",
      "10/10 [==============================] - 1s 99ms/step - loss: 0.2788 - accuracy: 0.9148 - val_loss: 0.2047 - val_accuracy: 0.9211\n",
      "Epoch 8/100\n",
      "10/10 [==============================] - 1s 79ms/step - loss: 0.2158 - accuracy: 0.9049 - val_loss: 0.1765 - val_accuracy: 0.9474\n",
      "Epoch 9/100\n",
      "10/10 [==============================] - 1s 98ms/step - loss: 0.2250 - accuracy: 0.8984 - val_loss: 0.1665 - val_accuracy: 0.9342\n",
      "Epoch 10/100\n",
      "10/10 [==============================] - 1s 114ms/step - loss: 0.2156 - accuracy: 0.9115 - val_loss: 0.1562 - val_accuracy: 0.9474\n",
      "Epoch 11/100\n",
      "10/10 [==============================] - 1s 88ms/step - loss: 0.2054 - accuracy: 0.9180 - val_loss: 0.1674 - val_accuracy: 0.9342\n",
      "Epoch 12/100\n",
      "10/10 [==============================] - 1s 81ms/step - loss: 0.1948 - accuracy: 0.9180 - val_loss: 0.1355 - val_accuracy: 0.9605\n",
      "Epoch 13/100\n",
      "10/10 [==============================] - 1s 72ms/step - loss: 0.1733 - accuracy: 0.9344 - val_loss: 0.1183 - val_accuracy: 0.9605\n",
      "Epoch 14/100\n",
      "10/10 [==============================] - 1s 76ms/step - loss: 0.1704 - accuracy: 0.9311 - val_loss: 0.1319 - val_accuracy: 0.9474\n",
      "Epoch 15/100\n",
      "10/10 [==============================] - 1s 79ms/step - loss: 0.1515 - accuracy: 0.9377 - val_loss: 0.1196 - val_accuracy: 0.9605\n",
      "Epoch 16/100\n",
      "10/10 [==============================] - 1s 72ms/step - loss: 0.1829 - accuracy: 0.9246 - val_loss: 0.1076 - val_accuracy: 0.9737\n",
      "Epoch 17/100\n",
      "10/10 [==============================] - 1s 73ms/step - loss: 0.2199 - accuracy: 0.9180 - val_loss: 0.2439 - val_accuracy: 0.8684\n",
      "Epoch 18/100\n",
      "10/10 [==============================] - 1s 70ms/step - loss: 0.1881 - accuracy: 0.9246 - val_loss: 0.1871 - val_accuracy: 0.9211\n",
      "Epoch 19/100\n",
      "10/10 [==============================] - 1s 77ms/step - loss: 0.1881 - accuracy: 0.9246 - val_loss: 0.0935 - val_accuracy: 0.9605\n",
      "Epoch 20/100\n",
      "10/10 [==============================] - 1s 74ms/step - loss: 0.1546 - accuracy: 0.9311 - val_loss: 0.0870 - val_accuracy: 0.9737\n",
      "Epoch 21/100\n",
      "10/10 [==============================] - 1s 82ms/step - loss: 0.2376 - accuracy: 0.9279 - val_loss: 0.1471 - val_accuracy: 0.9737\n",
      "Epoch 22/100\n",
      "10/10 [==============================] - 1s 76ms/step - loss: 0.1480 - accuracy: 0.9508 - val_loss: 0.1397 - val_accuracy: 0.9605\n",
      "Epoch 23/100\n",
      "10/10 [==============================] - 1s 74ms/step - loss: 0.1800 - accuracy: 0.9311 - val_loss: 0.1678 - val_accuracy: 0.9342\n",
      "Epoch 24/100\n",
      "10/10 [==============================] - 1s 77ms/step - loss: 0.1337 - accuracy: 0.9541 - val_loss: 0.0981 - val_accuracy: 0.9737\n",
      "Epoch 25/100\n",
      "10/10 [==============================] - 1s 78ms/step - loss: 0.1156 - accuracy: 0.9639 - val_loss: 0.0836 - val_accuracy: 0.9737\n",
      "Epoch 26/100\n",
      "10/10 [==============================] - 1s 79ms/step - loss: 0.1537 - accuracy: 0.9508 - val_loss: 0.0927 - val_accuracy: 0.9605\n",
      "Epoch 27/100\n",
      "10/10 [==============================] - 1s 71ms/step - loss: 0.1524 - accuracy: 0.9443 - val_loss: 0.1197 - val_accuracy: 0.9474\n",
      "Epoch 28/100\n",
      "10/10 [==============================] - 1s 75ms/step - loss: 0.1067 - accuracy: 0.9607 - val_loss: 0.0848 - val_accuracy: 0.9737\n",
      "Epoch 29/100\n",
      "10/10 [==============================] - 1s 81ms/step - loss: 0.1098 - accuracy: 0.9541 - val_loss: 0.0878 - val_accuracy: 0.9605\n",
      "Epoch 30/100\n",
      "10/10 [==============================] - 1s 76ms/step - loss: 0.1337 - accuracy: 0.9574 - val_loss: 0.1033 - val_accuracy: 0.9737\n",
      "Epoch 31/100\n",
      "10/10 [==============================] - 1s 86ms/step - loss: 0.1454 - accuracy: 0.9410 - val_loss: 0.1640 - val_accuracy: 0.9342\n",
      "Epoch 32/100\n",
      "10/10 [==============================] - 1s 76ms/step - loss: 0.0949 - accuracy: 0.9672 - val_loss: 0.0677 - val_accuracy: 0.9737\n",
      "Epoch 33/100\n",
      "10/10 [==============================] - 1s 78ms/step - loss: 0.0773 - accuracy: 0.9607 - val_loss: 0.0753 - val_accuracy: 0.9737\n",
      "Epoch 34/100\n",
      "10/10 [==============================] - 1s 84ms/step - loss: 0.0773 - accuracy: 0.9672 - val_loss: 0.0640 - val_accuracy: 0.9605\n",
      "Epoch 35/100\n",
      "10/10 [==============================] - 1s 82ms/step - loss: 0.1472 - accuracy: 0.9508 - val_loss: 0.0929 - val_accuracy: 0.9474\n",
      "Epoch 36/100\n",
      "10/10 [==============================] - 1s 82ms/step - loss: 0.1766 - accuracy: 0.9344 - val_loss: 0.0971 - val_accuracy: 0.9737\n",
      "Epoch 37/100\n",
      "10/10 [==============================] - 1s 89ms/step - loss: 0.1062 - accuracy: 0.9607 - val_loss: 0.1039 - val_accuracy: 0.9605\n",
      "Epoch 38/100\n",
      "10/10 [==============================] - 1s 83ms/step - loss: 0.1226 - accuracy: 0.9607 - val_loss: 0.1268 - val_accuracy: 0.9605\n",
      "Epoch 39/100\n",
      "10/10 [==============================] - 1s 85ms/step - loss: 0.1261 - accuracy: 0.9508 - val_loss: 0.1127 - val_accuracy: 0.9737\n",
      "Epoch 40/100\n",
      "10/10 [==============================] - 1s 78ms/step - loss: 0.0749 - accuracy: 0.9672 - val_loss: 0.0721 - val_accuracy: 0.9605\n",
      "Epoch 41/100\n",
      "10/10 [==============================] - 1s 76ms/step - loss: 0.0932 - accuracy: 0.9672 - val_loss: 0.1043 - val_accuracy: 0.9737\n",
      "Epoch 42/100\n",
      "10/10 [==============================] - 1s 79ms/step - loss: 0.0715 - accuracy: 0.9705 - val_loss: 0.0725 - val_accuracy: 0.9737\n",
      "Epoch 43/100\n",
      "10/10 [==============================] - 1s 78ms/step - loss: 0.0835 - accuracy: 0.9705 - val_loss: 0.0489 - val_accuracy: 0.9868\n",
      "Epoch 44/100\n",
      "10/10 [==============================] - 1s 81ms/step - loss: 0.0766 - accuracy: 0.9639 - val_loss: 0.0724 - val_accuracy: 0.9737\n",
      "Epoch 45/100\n",
      "10/10 [==============================] - 1s 78ms/step - loss: 0.0975 - accuracy: 0.9672 - val_loss: 0.1514 - val_accuracy: 0.9605\n",
      "Epoch 46/100\n",
      "10/10 [==============================] - 1s 79ms/step - loss: 0.0634 - accuracy: 0.9803 - val_loss: 0.0659 - val_accuracy: 0.9737\n",
      "Epoch 47/100\n",
      "10/10 [==============================] - 1s 77ms/step - loss: 0.0516 - accuracy: 0.9770 - val_loss: 0.0667 - val_accuracy: 0.9737\n",
      "Epoch 48/100\n",
      "10/10 [==============================] - 1s 85ms/step - loss: 0.0432 - accuracy: 0.9836 - val_loss: 0.0613 - val_accuracy: 0.9605\n",
      "Epoch 49/100\n",
      "10/10 [==============================] - 1s 90ms/step - loss: 0.0894 - accuracy: 0.9639 - val_loss: 0.0495 - val_accuracy: 0.9737\n",
      "Epoch 50/100\n",
      "10/10 [==============================] - 1s 91ms/step - loss: 0.1035 - accuracy: 0.9639 - val_loss: 0.0425 - val_accuracy: 0.9868\n",
      "Epoch 51/100\n",
      "10/10 [==============================] - 1s 83ms/step - loss: 0.0689 - accuracy: 0.9738 - val_loss: 0.2172 - val_accuracy: 0.9342\n",
      "Epoch 52/100\n",
      "10/10 [==============================] - 1s 83ms/step - loss: 0.0919 - accuracy: 0.9672 - val_loss: 0.0649 - val_accuracy: 0.9737\n",
      "Epoch 53/100\n",
      "10/10 [==============================] - 1s 78ms/step - loss: 0.0888 - accuracy: 0.9705 - val_loss: 0.0967 - val_accuracy: 0.9474\n",
      "Epoch 54/100\n",
      "10/10 [==============================] - 1s 84ms/step - loss: 0.0698 - accuracy: 0.9803 - val_loss: 0.2157 - val_accuracy: 0.9342\n",
      "Epoch 55/100\n",
      "10/10 [==============================] - 1s 92ms/step - loss: 0.0525 - accuracy: 0.9869 - val_loss: 0.0838 - val_accuracy: 0.9737\n",
      "Epoch 56/100\n",
      "10/10 [==============================] - 1s 84ms/step - loss: 0.0762 - accuracy: 0.9705 - val_loss: 0.1455 - val_accuracy: 0.9605\n",
      "Epoch 57/100\n",
      "10/10 [==============================] - 1s 82ms/step - loss: 0.0739 - accuracy: 0.9672 - val_loss: 0.0586 - val_accuracy: 0.9737\n",
      "Epoch 58/100\n"
     ]
    },
    {
     "name": "stdout",
     "output_type": "stream",
     "text": [
      "10/10 [==============================] - 1s 83ms/step - loss: 0.0429 - accuracy: 0.9869 - val_loss: 0.0995 - val_accuracy: 0.9737\n",
      "Epoch 59/100\n",
      "10/10 [==============================] - 1s 79ms/step - loss: 0.0344 - accuracy: 0.9902 - val_loss: 0.0755 - val_accuracy: 0.9737\n",
      "Epoch 60/100\n",
      "10/10 [==============================] - 1s 80ms/step - loss: 0.0418 - accuracy: 0.9869 - val_loss: 0.0617 - val_accuracy: 0.9737\n",
      "Epoch 61/100\n",
      "10/10 [==============================] - 1s 77ms/step - loss: 0.0324 - accuracy: 0.9869 - val_loss: 0.0373 - val_accuracy: 0.9737\n",
      "Epoch 62/100\n",
      "10/10 [==============================] - 1s 78ms/step - loss: 0.0340 - accuracy: 0.9869 - val_loss: 0.0755 - val_accuracy: 0.9737\n",
      "Epoch 63/100\n",
      "10/10 [==============================] - 1s 79ms/step - loss: 0.0317 - accuracy: 0.9902 - val_loss: 0.1294 - val_accuracy: 0.9605\n",
      "Epoch 64/100\n",
      "10/10 [==============================] - 1s 79ms/step - loss: 0.0449 - accuracy: 0.9803 - val_loss: 0.0508 - val_accuracy: 0.9737\n",
      "Epoch 65/100\n",
      "10/10 [==============================] - 1s 79ms/step - loss: 0.0329 - accuracy: 0.9934 - val_loss: 0.0548 - val_accuracy: 0.9737\n",
      "Epoch 66/100\n",
      "10/10 [==============================] - 1s 72ms/step - loss: 0.0381 - accuracy: 0.9902 - val_loss: 0.0832 - val_accuracy: 0.9737\n",
      "Epoch 67/100\n",
      "10/10 [==============================] - 1s 74ms/step - loss: 0.0336 - accuracy: 0.9836 - val_loss: 0.0466 - val_accuracy: 0.9737\n",
      "Epoch 68/100\n",
      "10/10 [==============================] - 1s 93ms/step - loss: 0.0282 - accuracy: 0.9934 - val_loss: 0.0513 - val_accuracy: 0.9737\n",
      "Epoch 69/100\n",
      "10/10 [==============================] - 1s 78ms/step - loss: 0.0351 - accuracy: 0.9869 - val_loss: 0.0708 - val_accuracy: 0.9737\n",
      "Epoch 70/100\n",
      "10/10 [==============================] - 1s 82ms/step - loss: 0.0227 - accuracy: 0.9934 - val_loss: 0.1584 - val_accuracy: 0.9737\n",
      "Epoch 71/100\n",
      "10/10 [==============================] - 1s 85ms/step - loss: 0.0401 - accuracy: 0.9770 - val_loss: 0.0301 - val_accuracy: 0.9868\n",
      "Epoch 72/100\n",
      "10/10 [==============================] - 1s 75ms/step - loss: 0.0336 - accuracy: 0.9902 - val_loss: 0.0394 - val_accuracy: 0.9868\n",
      "Epoch 73/100\n",
      "10/10 [==============================] - 1s 82ms/step - loss: 0.0508 - accuracy: 0.9770 - val_loss: 0.0591 - val_accuracy: 0.9737\n",
      "Epoch 74/100\n",
      "10/10 [==============================] - 1s 72ms/step - loss: 0.0379 - accuracy: 0.9902 - val_loss: 0.0800 - val_accuracy: 0.9737\n",
      "Epoch 75/100\n",
      "10/10 [==============================] - 1s 75ms/step - loss: 0.0321 - accuracy: 0.9902 - val_loss: 0.0949 - val_accuracy: 0.9605\n",
      "Epoch 76/100\n",
      "10/10 [==============================] - 1s 73ms/step - loss: 0.0486 - accuracy: 0.9836 - val_loss: 0.0796 - val_accuracy: 0.9737\n",
      "Epoch 77/100\n",
      "10/10 [==============================] - 1s 71ms/step - loss: 0.0445 - accuracy: 0.9836 - val_loss: 0.0358 - val_accuracy: 0.9605\n",
      "Epoch 78/100\n",
      "10/10 [==============================] - 1s 78ms/step - loss: 0.0268 - accuracy: 0.9902 - val_loss: 0.1441 - val_accuracy: 0.9737\n",
      "Epoch 79/100\n",
      "10/10 [==============================] - 1s 73ms/step - loss: 0.0591 - accuracy: 0.9672 - val_loss: 0.1220 - val_accuracy: 0.9605\n",
      "Epoch 80/100\n",
      "10/10 [==============================] - 1s 79ms/step - loss: 0.0412 - accuracy: 0.9869 - val_loss: 0.0789 - val_accuracy: 0.9868\n",
      "Epoch 81/100\n",
      "10/10 [==============================] - 1s 72ms/step - loss: 0.0273 - accuracy: 0.9967 - val_loss: 0.0484 - val_accuracy: 0.9868\n",
      "Epoch 82/100\n",
      "10/10 [==============================] - 1s 92ms/step - loss: 0.0134 - accuracy: 0.9934 - val_loss: 0.0652 - val_accuracy: 0.9737\n",
      "Epoch 83/100\n",
      "10/10 [==============================] - 1s 77ms/step - loss: 0.0311 - accuracy: 0.9902 - val_loss: 0.0662 - val_accuracy: 0.9737\n",
      "Epoch 84/100\n",
      "10/10 [==============================] - 1s 71ms/step - loss: 0.0174 - accuracy: 0.9967 - val_loss: 0.0450 - val_accuracy: 0.9737\n",
      "Epoch 85/100\n",
      "10/10 [==============================] - 1s 80ms/step - loss: 0.0083 - accuracy: 1.0000 - val_loss: 0.0526 - val_accuracy: 0.9737\n",
      "Epoch 86/100\n",
      "10/10 [==============================] - 1s 76ms/step - loss: 0.0123 - accuracy: 0.9967 - val_loss: 0.0667 - val_accuracy: 0.9737\n",
      "Epoch 87/100\n",
      "10/10 [==============================] - 1s 76ms/step - loss: 0.0204 - accuracy: 0.9934 - val_loss: 0.0773 - val_accuracy: 0.9737\n",
      "Epoch 88/100\n",
      "10/10 [==============================] - 1s 77ms/step - loss: 0.0347 - accuracy: 0.9902 - val_loss: 0.0971 - val_accuracy: 0.9737\n",
      "Epoch 89/100\n",
      "10/10 [==============================] - 1s 82ms/step - loss: 0.0150 - accuracy: 0.9934 - val_loss: 0.0267 - val_accuracy: 0.9868\n",
      "Epoch 90/100\n",
      "10/10 [==============================] - 1s 82ms/step - loss: 0.0376 - accuracy: 0.9967 - val_loss: 0.0694 - val_accuracy: 0.9737\n",
      "Epoch 91/100\n",
      "10/10 [==============================] - 1s 104ms/step - loss: 0.1657 - accuracy: 0.9508 - val_loss: 0.0693 - val_accuracy: 0.9868\n",
      "Epoch 92/100\n",
      "10/10 [==============================] - ETA: 0s - loss: 0.1726 - accuracy: 0.93 - 1s 93ms/step - loss: 0.1726 - accuracy: 0.9344 - val_loss: 0.2082 - val_accuracy: 0.9605\n",
      "Epoch 93/100\n",
      "10/10 [==============================] - 1s 90ms/step - loss: 0.0699 - accuracy: 0.9770 - val_loss: 0.0749 - val_accuracy: 0.9737\n",
      "Epoch 94/100\n",
      "10/10 [==============================] - 1s 89ms/step - loss: 0.0909 - accuracy: 0.9705 - val_loss: 0.0481 - val_accuracy: 0.9737\n",
      "Epoch 95/100\n",
      "10/10 [==============================] - 1s 86ms/step - loss: 0.0443 - accuracy: 0.9770 - val_loss: 0.0375 - val_accuracy: 0.9737\n",
      "Epoch 96/100\n",
      "10/10 [==============================] - 1s 94ms/step - loss: 0.0377 - accuracy: 0.9836 - val_loss: 0.0413 - val_accuracy: 0.9868\n",
      "Epoch 97/100\n",
      "10/10 [==============================] - 1s 85ms/step - loss: 0.0320 - accuracy: 0.9902 - val_loss: 0.0749 - val_accuracy: 0.9605\n",
      "Epoch 98/100\n",
      "10/10 [==============================] - 1s 82ms/step - loss: 0.0211 - accuracy: 0.9934 - val_loss: 0.0924 - val_accuracy: 0.9737\n",
      "Epoch 99/100\n",
      "10/10 [==============================] - 1s 87ms/step - loss: 0.0193 - accuracy: 0.9934 - val_loss: 0.0344 - val_accuracy: 0.9737\n",
      "Epoch 100/100\n",
      "10/10 [==============================] - 1s 80ms/step - loss: 0.0156 - accuracy: 0.9934 - val_loss: 0.0838 - val_accuracy: 0.9605\n"
     ]
    }
   ],
   "source": [
    "epochs = 100\n",
    "history = model.fit(\n",
    "  train_ds,\n",
    "  validation_data=val_ds,\n",
    "  epochs=epochs\n",
    ")"
   ]
  },
  {
   "cell_type": "markdown",
   "metadata": {
    "id": "Lkdl8VsBbZOu"
   },
   "source": [
    "## Visualize training results\n",
    "\n",
    "After applying data augmentation and Dropout, there is less overfitting than before, and training and validation accuracy are closer aligned. "
   ]
  },
  {
   "cell_type": "code",
   "execution_count": 69,
   "metadata": {
    "execution": {
     "iopub.execute_input": "2021-06-16T19:32:36.685578Z",
     "iopub.status.busy": "2021-06-16T19:32:36.670192Z",
     "iopub.status.idle": "2021-06-16T19:32:36.865510Z",
     "shell.execute_reply": "2021-06-16T19:32:36.865083Z"
    },
    "id": "dduoLfKsZVIA"
   },
   "outputs": [
    {
     "data": {
      "image/png": "[encoded data removed]",
      "text/plain": [
       "<Figure size 800x800 with 2 Axes>"
      ]
     },
     "metadata": {},
     "output_type": "display_data"
    }
   ],
   "source": [
    "acc = history.history['accuracy']\n",
    "val_acc = history.history['val_accuracy']\n",
    "\n",
    "loss = history.history['loss']\n",
    "val_loss = history.history['val_loss']\n",
    "\n",
    "epochs_range = range(epochs)\n",
    "\n",
    "plt.figure(figsize=(8, 8))\n",
    "plt.subplot(1, 2, 1)\n",
    "plt.plot(epochs_range, acc, label='Training Accuracy')\n",
    "plt.plot(epochs_range, val_acc, label='Validation Accuracy')\n",
    "plt.legend(loc='lower right')\n",
    "plt.title('Training and Validation Accuracy')\n",
    "\n",
    "plt.subplot(1, 2, 2)\n",
    "plt.plot(epochs_range, loss, label='Training Loss')\n",
    "plt.plot(epochs_range, val_loss, label='Validation Loss')\n",
    "plt.legend(loc='upper right')\n",
    "plt.title('Training and Validation Loss')\n",
    "plt.show()"
   ]
  },
  {
   "cell_type": "markdown",
   "metadata": {
    "id": "dtv5VbaVb-3W"
   },
   "source": [
    "## Predict on new data"
   ]
  },
  {
   "cell_type": "markdown",
   "metadata": {
    "id": "10buWpJbcCQz"
   },
   "source": [
    "Finally, let's use our model to classify an image that wasn't included in the training or validation sets."
   ]
  },
  {
   "cell_type": "markdown",
   "metadata": {
    "id": "NKgMZ4bDcHf7"
   },
   "source": [
    "Note: Data augmentation and Dropout layers are inactive at inference time."
   ]
  },
  {
   "cell_type": "code",
   "execution_count": 70,
   "metadata": {
    "execution": {
     "iopub.execute_input": "2021-06-16T19:32:36.872224Z",
     "iopub.status.busy": "2021-06-16T19:32:36.871628Z",
     "iopub.status.idle": "2021-06-16T19:32:37.188776Z",
     "shell.execute_reply": "2021-06-16T19:32:37.189152Z"
    },
    "id": "dC40sRITBSsQ"
   },
   "outputs": [],
   "source": [
    "\n",
    "# img = keras.preprocessing.image.load_img(\n",
    "#     'Testing/Papaya 1.png', target_size=(img_height, img_width)\n",
    "# )\n",
    "# img_array = keras.preprocessing.image.img_to_array(img)\n",
    "# img_array = tf.expand_dims(img_array, 0) # Create a batch\n",
    "\n",
    "# predictions = model.predict(img_array)\n",
    "# score = tf.nn.softmax(predictions[0])\n",
    "\n",
    "# print(\n",
    "#     \"This image most likely belongs to {} with a {:.2f} percent confidence.\"\n",
    "#     .format(class_names[np.argmax(score)], 100 * np.max(score))\n",
    "# )"
   ]
  },
  {
   "cell_type": "code",
   "execution_count": 71,
   "metadata": {},
   "outputs": [],
   "source": [
    "# model.save(\"model_9Oct_batch32_size64.h5\")"
   ]
  },
  {
   "cell_type": "code",
   "execution_count": 72,
   "metadata": {},
   "outputs": [],
   "source": [
    "model.save(\"model5_embedded_augmentation_100Epoch_dataset3.h5\")"
   ]
  },
  {
   "cell_type": "code",
   "execution_count": null,
   "metadata": {},
   "outputs": [],
   "source": []
  },
  {
   "cell_type": "code",
   "execution_count": null,
   "metadata": {},
   "outputs": [],
   "source": []
  }
 ],
 "metadata": {
  "accelerator": "GPU",
  "colab": {
   "collapsed_sections": [],
   "name": "classification.ipynb",
   "toc_visible": true
  },
  "interpreter": {
   "hash": "4b94aa05f0572349e43f310371974d7dbd338544148dc68438d9305d2aa73c30"
  },
  "kernelspec": {
   "display_name": "Python 3",
   "language": "python",
   "name": "python3"
  },
  "language_info": {
   "codemirror_mode": {
    "name": "ipython",
    "version": 3
   },
   "file_extension": ".py",
   "mimetype": "text/x-python",
   "name": "python",
   "nbconvert_exporter": "python",
   "pygments_lexer": "ipython3",
   "version": "3.9.6"
  }
 },
 "nbformat": 4,
 "nbformat_minor": 1
}
