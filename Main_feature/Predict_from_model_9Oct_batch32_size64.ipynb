{
 "cells": [
  {
   "cell_type": "code",
   "execution_count": 123,
   "id": "8adabd52",
   "metadata": {},
   "outputs": [],
   "source": [
    "import tensorflow as tf\n",
    "from tensorflow import keras\n",
    "from sklearn.metrics import ConfusionMatrixDisplay\n",
    "from sklearn.metrics import confusion_matrix\n",
    "import matplotlib.pyplot as plt\n",
    "import numpy as np\n"
   ]
  },
  {
   "cell_type": "code",
   "execution_count": 94,
   "id": "8f181e24",
   "metadata": {},
   "outputs": [],
   "source": [
    "# reconstructed_model = keras.models.load_model(\"model_9Oct_batch32_size64.h5\")\n",
    "# reconstructed_model = keras.models.load_model(\"model_14Nov_batch32_size64_4_balancedDataset.h5\")\n"
   ]
  },
  {
   "cell_type": "code",
   "execution_count": 95,
   "id": "9deef27a",
   "metadata": {},
   "outputs": [],
   "source": [
    "# batch_size = 32\n",
    "# img_height = 64\n",
    "# img_width = 64\n",
    "class_names=['Medium', 'Not_Ripe', 'Ripe']"
   ]
  },
  {
   "cell_type": "code",
   "execution_count": 96,
   "id": "6cf77dc8",
   "metadata": {},
   "outputs": [
    {
     "name": "stdout",
     "output_type": "stream",
     "text": [
      "This image most likely belongs to Not_Ripe with a 99.99 percent confidence.\n"
     ]
    }
   ],
   "source": [
    "img = keras.preprocessing.image.load_img(\n",
    "    'SingleTest/cha (3).jpg', target_size=(img_height, img_width)\n",
    ")\n",
    "img_array = keras.preprocessing.image.img_to_array(img)\n",
    "img_array = tf.expand_dims(img_array, 0) # Create a batch\n",
    "\n",
    "predictions = reconstructed_model.predict(img_array)\n",
    "score = tf.nn.softmax(predictions[0])\n",
    "\n",
    "print(\n",
    "    \"This image most likely belongs to {} with a {:.2f} percent confidence.\"\n",
    "    .format(class_names[np.argmax(score)], 100 * np.max(score))\n",
    ")"
   ]
  },
  {
   "cell_type": "code",
   "execution_count": 97,
   "id": "0755336f",
   "metadata": {},
   "outputs": [
    {
     "name": "stdout",
     "output_type": "stream",
     "text": [
      "[0, 0, 0, 0, 0, 0, 0, 0, 0, 0, 0, 0, 0, 0, 0, 0, 0, 0, 0, 0, 0, 0, 0, 0, 0, 0, 0, 0, 0, 0, 0, 0, 0, 0, 0, 0, 0, 0, 0, 1, 1, 1, 1, 1, 1, 1, 1, 1, 1, 1, 1, 1, 1, 1, 1, 1, 1, 1, 1, 1, 1, 1, 1, 1, 1, 1, 1, 1, 1, 1, 1, 1, 1, 1, 1, 1, 1, 1, 1, 1, 1, 1, 1, 1, 2, 2, 2, 2, 2, 2, 2, 2, 2, 2, 2, 2, 2, 2, 2, 2, 2, 2, 2, 2]\n"
     ]
    }
   ],
   "source": [
    "import pandas as pd\n",
    "data = pd.read_csv('TestResult.csv', header=None)\n",
    "test_result = [0]*39 + [1]*45+[2]*20\n",
    "print(test_result)"
   ]
  },
  {
   "cell_type": "code",
   "execution_count": 147,
   "id": "b6c79661",
   "metadata": {},
   "outputs": [],
   "source": [
    "def buildConfusion(modelFile,size=64):\n",
    "    y_pred = []\n",
    "    batch_size = 32\n",
    "    img_height = size\n",
    "    img_width = size\n",
    "#photo 1-42 Medium\n",
    "#photo 43-88 Not ripe\n",
    "#phto  88-108 Ripe\n",
    "# class_names=['Medium', 'Not_Ripe', 'Ripe']\n",
    "    ans=[]\n",
    "    count=0\n",
    "    reconstructed_model = keras.models.load_model(modelFile+'.h5')\n",
    "    print('=============================================================================================')\n",
    "    print(f'Evaulating Model : {modelFile}')\n",
    "    print('=============================================================================================')\n",
    "    for i in range(1,105):\n",
    "        img = keras.preprocessing.image.load_img(\n",
    "        f'Testing/papaya ({i}).png', target_size=(img_height, img_width)\n",
    "        )\n",
    "        img_array = keras.preprocessing.image.img_to_array(img)\n",
    "        img_array = tf.expand_dims(img_array, 0) # Create a batch\n",
    "\n",
    "        predictions = reconstructed_model.predict(img_array)\n",
    "        score = tf.nn.softmax(predictions[0])\n",
    "        if(i<40):\n",
    "            if(np.argmax(score)==0):\n",
    "                count+=1\n",
    "            else:\n",
    "                print(f\" Papaya ({i}).png Mismatch : See \\\"Medium\\\" as \\\"{class_names[np.argmax(score)]}\\\" \")\n",
    "        elif(i<85):\n",
    "            if(np.argmax(score)==1):\n",
    "                count+=1\n",
    "            else:\n",
    "                print(f\" Papaya ({i}).png Mismatch : See \\\"Not_Ripe\\\" as \\\"{class_names[np.argmax(score)]}\\\" \")\n",
    "        elif(i<105):\n",
    "            if(np.argmax(score)==2):\n",
    "                count+=1\n",
    "            else:\n",
    "                print(f\" Papaya ({i}).png Mismatch : See \\\"Ripe\\\" as \\\"{class_names[np.argmax(score)]}\\\" \")\n",
    "\n",
    "        \n",
    "        ans.append(f\"{i}: {class_names[np.argmax(score)]}\")\n",
    "        y_pred.append(np.argmax(score))\n",
    "    print('---------------------------------------------------------------------------------------------')\n",
    "    print(f\"Efficientcy: {count/104}\")\n",
    "    print(f\"Confusion Matrix: \")\n",
    "    print('---------------------------------------------------------------------------------------------')\n",
    "#     print(y_pred)\n",
    "#     print(test_result)\n",
    "    cm = confusion_matrix(test_result, y_pred)\n",
    "    disp = ConfusionMatrixDisplay(confusion_matrix=cm, display_labels=class_names)\n",
    "    disp.plot(cmap=plt.cm.Blues)\n",
    "    plt.show()\n",
    "\n",
    "    print('=============================================================================================')\n",
    "    print('\\n\\n')\n",
    "    return \n",
    "\n",
    "\n",
    "\n",
    "# print(y_pred)"
   ]
  },
  {
   "cell_type": "code",
   "execution_count": 152,
   "id": "aa568b1f",
   "metadata": {
    "scrolled": true
   },
   "outputs": [],
   "source": [
    "ListOfModelSize64 = ['model1_dataset1','model4_embedded_augmentation_30Epoch_dataset2','model5_embedded_augmentation_100Epoch_dataset2','model6_embedded_augmentation_50Epoch_dataset2','model7_embedded_augmentation_50Epoch_dataset3','model8_embedded_augmentation_100Epoch_dataset3']\n"
   ]
  },
  {
   "cell_type": "code",
   "execution_count": null,
   "id": "5f98d861",
   "metadata": {
    "scrolled": true
   },
   "outputs": [
    {
     "name": "stdout",
     "output_type": "stream",
     "text": [
      "=============================================================================================\n",
      "Evaulating Model : model1_dataset1\n",
      "=============================================================================================\n",
      " Papaya (1).png Mismatch : See \"Medium\" as \"Not_Ripe\" \n",
      " Papaya (2).png Mismatch : See \"Medium\" as \"Not_Ripe\" \n",
      " Papaya (7).png Mismatch : See \"Medium\" as \"Not_Ripe\" \n",
      " Papaya (10).png Mismatch : See \"Medium\" as \"Not_Ripe\" \n",
      " Papaya (17).png Mismatch : See \"Medium\" as \"Not_Ripe\" \n",
      " Papaya (28).png Mismatch : See \"Medium\" as \"Not_Ripe\" \n",
      " Papaya (32).png Mismatch : See \"Medium\" as \"Not_Ripe\" \n",
      " Papaya (36).png Mismatch : See \"Medium\" as \"Not_Ripe\" \n",
      " Papaya (89).png Mismatch : See \"Ripe\" as \"Medium\" \n",
      "---------------------------------------------------------------------------------------------\n",
      "Efficientcy: 0.9134615384615384\n",
      "Confusion Matrix: \n",
      "---------------------------------------------------------------------------------------------\n"
     ]
    },
    {
     "data": {
      "image/png": "[encoded data removed]",
      "text/plain": [
       "<Figure size 640x480 with 2 Axes>"
      ]
     },
     "metadata": {},
     "output_type": "display_data"
    },
    {
     "name": "stdout",
     "output_type": "stream",
     "text": [
      "=============================================================================================\n",
      "\n",
      "\n",
      "\n",
      "=============================================================================================\n",
      "Evaulating Model : model4_embedded_augmentation_30Epoch_dataset2\n",
      "=============================================================================================\n",
      " Papaya (2).png Mismatch : See \"Medium\" as \"Not_Ripe\" \n",
      " Papaya (17).png Mismatch : See \"Medium\" as \"Not_Ripe\" \n",
      " Papaya (28).png Mismatch : See \"Medium\" as \"Not_Ripe\" \n",
      " Papaya (32).png Mismatch : See \"Medium\" as \"Not_Ripe\" \n"
     ]
    }
   ],
   "source": [
    "for i in range(0,len(ListOfModelSize64)):\n",
    "    buildConfusion(ListOfModelSize64[i])\n"
   ]
  },
  {
   "cell_type": "code",
   "execution_count": null,
   "id": "b7efc6cc",
   "metadata": {},
   "outputs": [],
   "source": [
    "ListOfModelSize80=['model2_manual_augmentation_dataset2', 'model3_embedded_augmentation_20Epoch_dataset2']\n",
    "for i in range(0,len(ListOfModelSize80)):\n",
    "    buildConfusion(ListOfModelSize80[i],80)\n"
   ]
  },
  {
   "cell_type": "code",
   "execution_count": null,
   "id": "505079c5",
   "metadata": {},
   "outputs": [],
   "source": []
  },
  {
   "cell_type": "code",
   "execution_count": null,
   "id": "14ee096c",
   "metadata": {},
   "outputs": [],
   "source": []
  }
 ],
 "metadata": {
  "kernelspec": {
   "display_name": "Python 3",
   "language": "python",
   "name": "python3"
  },
  "language_info": {
   "codemirror_mode": {
    "name": "ipython",
    "version": 3
   },
   "file_extension": ".py",
   "mimetype": "text/x-python",
   "name": "python",
   "nbconvert_exporter": "python",
   "pygments_lexer": "ipython3",
   "version": "3.9.6"
  }
 },
 "nbformat": 4,
 "nbformat_minor": 5
}
