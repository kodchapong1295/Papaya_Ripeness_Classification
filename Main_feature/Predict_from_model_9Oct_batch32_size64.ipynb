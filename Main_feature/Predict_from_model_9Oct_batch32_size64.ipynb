{
 "cells": [
  {
   "cell_type": "code",
   "execution_count": 8,
   "id": "8adabd52",
   "metadata": {},
   "outputs": [],
   "source": [
    "import tensorflow as tf\n",
    "from tensorflow import keras\n",
    "import numpy as np"
   ]
  },
  {
   "cell_type": "code",
   "execution_count": 9,
   "id": "8f181e24",
   "metadata": {},
   "outputs": [],
   "source": [
    "# reconstructed_model = keras.models.load_model(\"model_9Oct_batch32_size64.h5\")\n",
    "reconstructed_model = keras.models.load_model(\"model_19Oct_batch32_size64_1.h5\")\n"
   ]
  },
  {
   "cell_type": "code",
   "execution_count": 10,
   "id": "9deef27a",
   "metadata": {},
   "outputs": [],
   "source": [
    "batch_size = 32\n",
    "img_height = 80\n",
    "img_width = 80\n",
    "class_names=['Medium', 'Not_Ripe', 'Ripe']"
   ]
  },
  {
   "cell_type": "code",
   "execution_count": 17,
   "id": "6cf77dc8",
   "metadata": {},
   "outputs": [
    {
     "name": "stdout",
     "output_type": "stream",
     "text": [
      "This image most likely belongs to Medium with a 100.00 percent confidence.\n"
     ]
    }
   ],
   "source": [
    "img = keras.preprocessing.image.load_img(\n",
    "    'SingleTest/test10.png', target_size=(img_height, img_width)\n",
    ")\n",
    "img_array = keras.preprocessing.image.img_to_array(img)\n",
    "img_array = tf.expand_dims(img_array, 0) # Create a batch\n",
    "\n",
    "predictions = reconstructed_model.predict(img_array)\n",
    "score = tf.nn.softmax(predictions[0])\n",
    "\n",
    "print(\n",
    "    \"This image most likely belongs to {} with a {:.2f} percent confidence.\"\n",
    "    .format(class_names[np.argmax(score)], 100 * np.max(score))\n",
    ")"
   ]
  },
  {
   "cell_type": "code",
   "execution_count": 19,
   "id": "0755336f",
   "metadata": {},
   "outputs": [
    {
     "name": "stdout",
     "output_type": "stream",
     "text": [
      "[1, 0, 2, 0, 0, 2, 0, 0, 1, 0, 1, 1, 0, 1, 1, 0, 1, 1, 0, 0, 2, 0, 0, 0, 0, 1, 0, 0, 1, 0, 1, 0, 1, 0, 0, 2, 1, 1, 2, 2, 1, 1, 0, 0]\n"
     ]
    }
   ],
   "source": [
    "import pandas as pd\n",
    "data = pd.read_csv('TestResult.csv', header=None)\n",
    "test_result = [data[0][i] for i in range(0,44)]\n",
    "print(test_result)"
   ]
  },
  {
   "cell_type": "code",
   "execution_count": 20,
   "id": "b6c79661",
   "metadata": {},
   "outputs": [
    {
     "name": "stdout",
     "output_type": "stream",
     "text": [
      "6\n",
      "27\n",
      "['1: Not_Ripe', '2: Medium', '3: Ripe', '4: Medium', '5: Medium', '6: Medium', '7: Medium', '8: Medium', '9: Not_Ripe', '10: Medium', '11: Not_Ripe', '12: Not_Ripe', '13: Medium', '14: Not_Ripe', '15: Not_Ripe', '16: Medium', '17: Not_Ripe', '18: Not_Ripe', '19: Medium', '20: Medium', '21: Ripe', '22: Medium', '23: Medium', '24: Medium', '25: Medium', '26: Not_Ripe', '27: Not_Ripe', '28: Medium', '29: Not_Ripe', '30: Medium', '31: Not_Ripe', '32: Medium', '33: Not_Ripe', '34: Medium', '35: Medium', '36: Ripe', '37: Not_Ripe', '38: Not_Ripe', '39: Ripe', '40: Ripe', '41: Not_Ripe', '42: Not_Ripe', '43: Medium', '44: Medium']\n",
      "Efficientcy: 42\n",
      "[1, 0, 2, 0, 0, 0, 0, 0, 1, 0, 1, 1, 0, 1, 1, 0, 1, 1, 0, 0, 2, 0, 0, 0, 0, 1, 1, 0, 1, 0, 1, 0, 1, 0, 0, 2, 1, 1, 2, 2, 1, 1, 0, 0]\n"
     ]
    }
   ],
   "source": [
    "y_pred = []\n",
    "\n",
    "ans=[]\n",
    "count=0\n",
    "for i in range(1,45):\n",
    "    img = keras.preprocessing.image.load_img(\n",
    "        f'Testing/Test{i}.png', target_size=(img_height, img_width)\n",
    "    )\n",
    "    img_array = keras.preprocessing.image.img_to_array(img)\n",
    "    img_array = tf.expand_dims(img_array, 0) # Create a batch\n",
    "\n",
    "    predictions = reconstructed_model.predict(img_array)\n",
    "    score = tf.nn.softmax(predictions[0])\n",
    "    if(np.argmax(score)==test_result[i-1]):\n",
    "        count+=1\n",
    "    else:\n",
    "        print(i)\n",
    "        \n",
    "    ans.append(f\"{i}: {class_names[np.argmax(score)]}\")\n",
    "    y_pred.append(np.argmax(score))\n",
    "#     print(\n",
    "#         \"This image most likely belongs to {} with a {:.2f} percent confidence.\"\n",
    "#         .format(class_names[np.argmax(score)], 100 * np.max(score))\n",
    "#     )\n",
    "print(ans)\n",
    "print(f\"Efficientcy: {count}\")\n",
    "\n",
    "print(y_pred)"
   ]
  },
  {
   "cell_type": "code",
   "execution_count": 21,
   "id": "aa568b1f",
   "metadata": {},
   "outputs": [
    {
     "data": {
      "text/plain": [
       "array([[21,  1,  0],\n",
       "       [ 0, 16,  0],\n",
       "       [ 1,  0,  5]])"
      ]
     },
     "execution_count": 21,
     "metadata": {},
     "output_type": "execute_result"
    }
   ],
   "source": [
    "from sklearn.metrics import confusion_matrix\n",
    "\n",
    "confusion_matrix(test_result, y_pred)"
   ]
  },
  {
   "cell_type": "code",
   "execution_count": null,
   "id": "b7efc6cc",
   "metadata": {},
   "outputs": [],
   "source": []
  }
 ],
 "metadata": {
  "kernelspec": {
   "display_name": "Python 3",
   "language": "python",
   "name": "python3"
  },
  "language_info": {
   "codemirror_mode": {
    "name": "ipython",
    "version": 3
   },
   "file_extension": ".py",
   "mimetype": "text/x-python",
   "name": "python",
   "nbconvert_exporter": "python",
   "pygments_lexer": "ipython3",
   "version": "3.8.8"
  }
 },
 "nbformat": 4,
 "nbformat_minor": 5
}
